{
 "cells": [
  {
   "cell_type": "code",
   "execution_count": 1,
   "metadata": {},
   "outputs": [],
   "source": [
    "from iiif_prezi3 import Manifest, AnnotationPage, Annotation, ResourceItem, config\n",
    "from moviepy.editor import VideoFileClip"
   ]
  },
  {
   "cell_type": "code",
   "execution_count": 2,
   "metadata": {},
   "outputs": [],
   "source": [
    "def get_video_duration(filename):\n",
    "    with VideoFileClip(filename) as video:\n",
    "        return video.duration"
   ]
  },
  {
   "cell_type": "code",
   "execution_count": 3,
   "metadata": {},
   "outputs": [],
   "source": [
    "label = \"講演：道徳、経済合一論（一）Union of Morality of Economy\"\n",
    "prefix = \"https://nakamura196.github.io/ramp_data/rekion/3574643\"\n",
    "output_path = \"../../../docs/rekion/3574643/manifest.json\"\n",
    "mp4_path = \"../../../docs/rekion/3574643/3574643.mp4\"\n",
    "mp4_url = \"https://nakamura196.github.io/ramp_data/rekion/3574643/3574643.mp4\"\n",
    "vtt_url = \"https://nakamura196.github.io/ramp_data/rekion/3574643/3574643.vtt\""
   ]
  },
  {
   "cell_type": "code",
   "execution_count": 5,
   "metadata": {},
   "outputs": [],
   "source": [
    "config.configs['helpers.auto_fields.AutoLang'].auto_lang = \"ja\"\n",
    "\n",
    "duration=get_video_duration(mp4_path)\n",
    "\n",
    "manifest = Manifest(id=f\"{prefix}/manifest.json\", label=label)\n",
    "canvas = manifest.make_canvas(id=f\"{prefix}/canvas\", duration=duration)\n",
    "anno_body = ResourceItem(id=mp4_url,\n",
    "                         type=\"Sound\",\n",
    "                         format=\"audio/mp4\",\n",
    "                         duration=duration)\n",
    "anno_page = AnnotationPage(id=f\"{prefix}/canvas/page\")\n",
    "anno = Annotation(id=f\"{prefix}/canvas/page/annotation\",\n",
    "                  motivation=\"painting\",\n",
    "                  body=anno_body,\n",
    "                  target=canvas.id)\n",
    "anno_page.add_item(anno)\n",
    "canvas.add_item(anno_page)\n",
    "\n",
    "# VTT URLを追加\n",
    "vtt_body = ResourceItem(id=vtt_url, type=\"Text\", format=\"text/vtt\")\n",
    "vtt_anno = Annotation(\n",
    "    id=f\"{prefix}/canvas/annotation/webvtt\",\n",
    "    motivation=\"supplementing\",\n",
    "    body=vtt_body,\n",
    "    target=canvas.id,\n",
    "    label = \"WebVTT Transcript (machine-generated)\"\n",
    "    )\n",
    "\n",
    "vtt_anno_page = AnnotationPage(id=f\"{prefix}/canvas/page/2\")\n",
    "vtt_anno_page.add_item(vtt_anno)\n",
    "\n",
    "canvas.annotations = [vtt_anno_page]\n",
    "\n",
    "with open(output_path, \"w\") as f:\n",
    "    f.write(manifest.json(indent=2))"
   ]
  }
 ],
 "metadata": {
  "kernelspec": {
   "display_name": ".venv",
   "language": "python",
   "name": "python3"
  },
  "language_info": {
   "codemirror_mode": {
    "name": "ipython",
    "version": 3
   },
   "file_extension": ".py",
   "mimetype": "text/x-python",
   "name": "python",
   "nbconvert_exporter": "python",
   "pygments_lexer": "ipython3",
   "version": "3.9.11"
  }
 },
 "nbformat": 4,
 "nbformat_minor": 2
}
